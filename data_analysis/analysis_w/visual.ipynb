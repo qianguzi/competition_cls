{
 "cells": [
  {
   "cell_type": "code",
   "execution_count": 1,
   "metadata": {},
   "outputs": [
    {
     "name": "stdout",
     "output_type": "stream",
     "text": [
      "KeysView(<HDF5 file \"training.h5\" (mode r)>)\n",
      "KeysView(<HDF5 file \"validation.h5\" (mode r)>)\n",
      "------------------------------------------------------------\n",
      "training part\n",
      "(352366, 32, 32, 8)\n",
      "(352366, 32, 32, 10)\n",
      "(352366, 17)\n",
      "------------------------------------------------------------\n",
      "validation part\n",
      "(24119, 32, 32, 8)\n",
      "(24119, 32, 32, 10)\n",
      "(24119, 17)\n"
     ]
    }
   ],
   "source": [
    "import h5py\n",
    "import numpy as np\n",
    "import matplotlib.pyplot as plt\n",
    "import os\n",
    "\n",
    "### to change according to your machine\n",
    "base_dir = os.path.expanduser(\"/home/data/lcz\")\n",
    "path_training = os.path.join(base_dir, 'training.h5')\n",
    "path_validation = os.path.join(base_dir, 'validation.h5')\n",
    "\n",
    "fid_training = h5py.File(path_training,'r')\n",
    "fid_validation = h5py.File(path_validation,'r')\n",
    "\n",
    "## we can have a look at which keys are stored in the file\n",
    "## you will get the return [u'label', u'sen1', u'sen2']\n",
    "## sen1 and sen2 means the satellite images\n",
    "print (fid_training.keys())\n",
    "print (fid_validation.keys())\n",
    "\n",
    "### get s1 image channel data\n",
    "### it is not really loaded into memory. only the indexes have been loaded.\n",
    "print (\"-\" * 60)\n",
    "print (\"training part\")\n",
    "s1_training = fid_training['sen1']\n",
    "print (s1_training.shape)\n",
    "s2_training = fid_training['sen2']\n",
    "print (s2_training.shape)\n",
    "label_training = fid_training['label']\n",
    "print (label_training.shape)\n",
    "\n",
    "print (\"-\" * 60)\n",
    "print (\"validation part\")\n",
    "s1_validation = fid_validation['sen1']\n",
    "print (s1_validation.shape)\n",
    "s2_validation = fid_validation['sen2']\n",
    "print (s2_validation.shape)\n",
    "label_validation = fid_validation['label']\n",
    "print (label_validation.shape)"
   ]
  },
  {
   "cell_type": "code",
   "execution_count": null,
   "metadata": {},
   "outputs": [],
   "source": [
    "s1=[]\n",
    "s2=[]\n",
    "for i in range(17):\n",
    "    idx=np.where(label_validation[:,i])[0][:202]\n",
    "    s1.append(s1_validation[list(idx)])\n",
    "    s2.append(s2_validation[list(idx)])\n",
    "s1=np.concatenate(s1)\n",
    "s2=np.concatenate(s2)\n",
    "print(s1.shape,s2.shape)"
   ]
  }
 ],
 "metadata": {
  "kernelspec": {
   "display_name": "Python [conda env:tf]",
   "language": "python",
   "name": "conda-env-tf-py"
  },
  "language_info": {
   "codemirror_mode": {
    "name": "ipython",
    "version": 3
   },
   "file_extension": ".py",
   "mimetype": "text/x-python",
   "name": "python",
   "nbconvert_exporter": "python",
   "pygments_lexer": "ipython3",
   "version": "3.6.6"
  }
 },
 "nbformat": 4,
 "nbformat_minor": 2
}
